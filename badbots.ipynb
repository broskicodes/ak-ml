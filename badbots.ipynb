{
 "cells": [
  {
   "cell_type": "code",
   "execution_count": 15,
   "metadata": {},
   "outputs": [],
   "source": [
    "import math\n",
    "import torch\n",
    "import torch.nn.functional as F\n",
    "import matplotlib.pyplot as plt # for making figures\n",
    "%matplotlib inline"
   ]
  },
  {
   "attachments": {},
   "cell_type": "markdown",
   "metadata": {},
   "source": [
    "parsing game data"
   ]
  },
  {
   "cell_type": "code",
   "execution_count": 296,
   "metadata": {},
   "outputs": [],
   "source": [
    "import chess.pgn\n",
    "\n",
    "games = []\n",
    "with open(\"jan-13-pgns.pgn\") as pgn_file:\n",
    "  # while True:\n",
    "  for i in range(2048):  \n",
    "    game = chess.pgn.read_game(pgn_file)\n",
    "    \n",
    "    if game is None:\n",
    "      break\n",
    "    \n",
    "    games.append(game)"
   ]
  },
  {
   "cell_type": "code",
   "execution_count": 297,
   "metadata": {},
   "outputs": [
    {
     "name": "stdout",
     "output_type": "stream",
     "text": [
      "2048\n"
     ]
    }
   ],
   "source": [
    "print(len(games))"
   ]
  },
  {
   "cell_type": "code",
   "execution_count": 298,
   "metadata": {},
   "outputs": [
    {
     "data": {
      "text/plain": [
       "<Mainline at 0x7f9961eb5750 (1. e4 e6 2. d4 b6 3. a3 Bb7 4. Nc3 Nh6 5. Bxh6 gxh6 6. Be2 Qg5 7. Bg4 h5 8. Nf3 Qg6 9. Nh4 Qg5 10. Bxh5 Qxh4 11. Qf3 Kd8 12. Qxf7 Nc6 13. Qe8#)>"
      ]
     },
     "execution_count": 298,
     "metadata": {},
     "output_type": "execute_result"
    }
   ],
   "source": [
    "games[0].mainline()"
   ]
  },
  {
   "attachments": {},
   "cell_type": "markdown",
   "metadata": {},
   "source": [
    "creating move lists"
   ]
  },
  {
   "cell_type": "code",
   "execution_count": 299,
   "metadata": {},
   "outputs": [
    {
     "data": {
      "text/plain": [
       "2048"
      ]
     },
     "execution_count": 299,
     "metadata": {},
     "output_type": "execute_result"
    }
   ],
   "source": [
    "moves = []\n",
    "for game in games:\n",
    "  m = []\n",
    "  board = game.board()\n",
    "  for move in game.mainline_moves():\n",
    "    m.append(board.san(move))\n",
    "    board.push(move)\n",
    "  m.append(game.headers[\"Result\"])  \n",
    "  \n",
    "  moves.append(' '.join(m))\n",
    "  \n",
    "len(moves)"
   ]
  },
  {
   "cell_type": "code",
   "execution_count": 300,
   "metadata": {},
   "outputs": [
    {
     "data": {
      "text/plain": [
       "'e4 e6 d4 b6 a3 Bb7 Nc3 Nh6 Bxh6 gxh6 Be2 Qg5 Bg4 h5 Nf3 Qg6 Nh4 Qg5 Bxh5 Qxh4 Qf3 Kd8 Qxf7 Nc6 Qe8# 1-0'"
      ]
     },
     "execution_count": 300,
     "metadata": {},
     "output_type": "execute_result"
    }
   ],
   "source": [
    "moves[0]"
   ]
  },
  {
   "attachments": {},
   "cell_type": "markdown",
   "metadata": {},
   "source": [
    "creating san to idx dictionaries"
   ]
  },
  {
   "cell_type": "code",
   "execution_count": 301,
   "metadata": {},
   "outputs": [
    {
     "name": "stdout",
     "output_type": "stream",
     "text": [
      "2362\n"
     ]
    }
   ],
   "source": [
    "sans = sorted(list(set(' '.join(moves).split(' '))))\n",
    "stoi = { s:i+1 for i, s in enumerate(sans) }\n",
    "stoi['.'] = 0\n",
    "\n",
    "itos = { i:s for s, i in stoi.items() }\n",
    "\n",
    "print(len(sans))"
   ]
  },
  {
   "attachments": {},
   "cell_type": "markdown",
   "metadata": {},
   "source": [
    "### creating datasets"
   ]
  },
  {
   "cell_type": "code",
   "execution_count": 308,
   "metadata": {},
   "outputs": [
    {
     "name": "stdout",
     "output_type": "stream",
     "text": [
      "torch.Size([108463, 7]) torch.Size([108463])\n",
      "torch.Size([12489, 7]) torch.Size([12489])\n",
      "torch.Size([13896, 7]) torch.Size([13896])\n"
     ]
    }
   ],
   "source": [
    "block_size = 7 # context length\n",
    "\n",
    "def build_dataset(moves):  \n",
    "  X, Y = [], []\n",
    "  for m in moves:\n",
    "\n",
    "    #print(w)\n",
    "    context = [0] * block_size\n",
    "    for san in m.split(\" \"):\n",
    "      ix = stoi[san]\n",
    "      X.append(context)\n",
    "      Y.append(ix)\n",
    "      #print(''.join(itos[i] for i in context), '--->', itos[ix])\n",
    "      context = context[1:] + [ix] # crop and append\n",
    "\n",
    "  X = torch.tensor(X)\n",
    "  Y = torch.tensor(Y)\n",
    "  print(X.shape, Y.shape)\n",
    "  return X, Y\n",
    "\n",
    "import random\n",
    "random.seed(42)\n",
    "random.shuffle(moves)\n",
    "n1 = int(0.8*len(moves))\n",
    "n2 = int(0.9*len(moves))\n",
    "\n",
    "Xtr, Ytr = build_dataset(moves[:n1])\n",
    "Xdev, Ydev = build_dataset(moves[n1:n2])\n",
    "Xte, Yte = build_dataset(moves[n2:])"
   ]
  },
  {
   "cell_type": "code",
   "execution_count": 309,
   "metadata": {},
   "outputs": [],
   "source": [
    "num_sans = len(sans) + 1\n",
    "emb_dim = 11\n",
    "\n",
    "g = torch.Generator().manual_seed(0) # for reproducibility\n",
    "C = torch.randn((num_sans, emb_dim), generator=g)\n",
    "W1 = torch.randn((block_size*emb_dim, 100), generator=g)\n",
    "b1 = torch.randn(100, generator=g)\n",
    "W2 = torch.randn((100, num_sans), generator=g)\n",
    "b2 = torch.randn(num_sans, generator=g)\n",
    "parameters = [C, W1, b1, W2, b2]\n",
    "\n",
    "def calc_loss(X, Y):\n",
    "  emb = C[X]\n",
    "  h = torch.tanh(emb.view(-1, block_size*emb_dim) @ W1 + b1)\n",
    "  logits = h @ W2 + b2\n",
    "  loss = F.cross_entropy(logits, Y)\n",
    "  return loss.item()\n",
    "\n",
    "for p in parameters:\n",
    "    p.requires_grad = True"
   ]
  },
  {
   "cell_type": "code",
   "execution_count": 310,
   "metadata": {},
   "outputs": [
    {
     "data": {
      "text/plain": [
       "272456"
      ]
     },
     "execution_count": 310,
     "metadata": {},
     "output_type": "execute_result"
    }
   ],
   "source": [
    "sum(p.nelement() for p in parameters) # number of parameters in total"
   ]
  },
  {
   "cell_type": "code",
   "execution_count": 311,
   "metadata": {},
   "outputs": [],
   "source": [
    "stepi = []\n",
    "lossi = []\n",
    "lri = []"
   ]
  },
  {
   "cell_type": "code",
   "execution_count": 312,
   "metadata": {},
   "outputs": [],
   "source": [
    "lre = torch.linspace(-0.5, 0.5, 5000)\n",
    "lrs = 10**lre"
   ]
  },
  {
   "cell_type": "code",
   "execution_count": 313,
   "metadata": {},
   "outputs": [
    {
     "name": "stdout",
     "output_type": "stream",
     "text": [
      "0 1.25\n",
      "20000 1.0\n",
      "40000 0.8\n",
      "60000 0.6400000000000001\n",
      "80000 0.5120000000000001\n",
      "100000 0.40960000000000013\n",
      "120000 0.32768000000000014\n",
      "140000 0.2621440000000001\n",
      "160000 0.2097152000000001\n",
      "180000 0.1677721600000001\n",
      "4.98065185546875\n"
     ]
    }
   ],
   "source": [
    "lr_opt = torch.optim.SGD(parameters, lr=1.25)  # Initialize optimizer\n",
    "scheduler = torch.optim.lr_scheduler.StepLR(lr_opt, step_size=20000, gamma=0.8)\n",
    "\n",
    "for i in range(200000):  \n",
    "  # minibatch\n",
    "  idxs = torch.randint(0, Xtr.shape[0], (32,))\n",
    "  \n",
    "  # fwd pass\n",
    "  emb = C[Xtr[idxs]]\n",
    "  h = torch.tanh(emb.view(-1, block_size*emb_dim) @ W1 + b1)\n",
    "  logits = h @ W2 + b2\n",
    "  loss = F.cross_entropy(logits, Ytr[idxs]) # equivalent to 3 prev lines\n",
    "  # print(loss.item())\n",
    "\n",
    "  # bwd pass\n",
    "  for p in parameters:\n",
    "    p.grad = None\n",
    "  loss.backward()\n",
    "\n",
    "  # update\n",
    "  lr = lr_opt.param_groups[0]['lr']\n",
    "  for p in parameters:\n",
    "    p.data += -lr * p.grad\n",
    "  \n",
    "  # step lr\n",
    "  lr_opt.step()\n",
    "  scheduler.step()\n",
    "  \n",
    "  # track stats\n",
    "  stepi.append(i)\n",
    "  # lri.append(lre[i])\n",
    "  lossi.append(loss.log10().item())\n",
    "  \n",
    "  if i % 20000 == 0:\n",
    "    print(i, lr, calc_loss(Xtr, Ytr), calc_loss(Xdev, Ydev))\n",
    "  \n",
    "print(loss.item())"
   ]
  },
  {
   "cell_type": "code",
   "execution_count": 314,
   "metadata": {},
   "outputs": [
    {
     "data": {
      "text/plain": [
       "[<matplotlib.lines.Line2D at 0x7f9961e20450>]"
      ]
     },
     "execution_count": 314,
     "metadata": {},
     "output_type": "execute_result"
    },
    {
     "data": {
      "image/png": "[encoded data removed]",
      "text/plain": [
       "<Figure size 640x480 with 1 Axes>"
      ]
     },
     "metadata": {},
     "output_type": "display_data"
    }
   ],
   "source": [
    "plt.plot(stepi, lossi)"
   ]
  },
  {
   "cell_type": "code",
   "execution_count": 319,
   "metadata": {},
   "outputs": [
    {
     "name": "stdout",
     "output_type": "stream",
     "text": [
      "4.860555648803711 6.485461711883545\n"
     ]
    }
   ],
   "source": [
    "print(calc_loss(Xtr, Ytr), calc_loss(Xdev, Ydev))"
   ]
  },
  {
   "cell_type": "code",
   "execution_count": 317,
   "metadata": {},
   "outputs": [
    {
     "name": "stdout",
     "output_type": "stream",
     "text": [
      "e4 b6 b4 Qb6 g5 Bb7 Nxc6 Qd2 h5 Qxh5 Kh6 Rxd8 g7 hxg4 d5 Qxe5 Rf8 Qc1+ Rb6 Qc6+ h5 Bc5+ Bg4 Rxg5+ Rc8 Rfe7 Bxh6+ Qf3 Rxf8 O-O-O Qf6 Nxd4 Qc6 e5 fxe5 Rxf6 f4 Nxe5 Qxf5 Nxe5 Rdg8 Ka4 Qd4 Ne4 Qd4 Nc7 Rfxd8 Nh4 Bxc3 0-1\n"
     ]
    }
   ],
   "source": [
    "# sample from the model\n",
    "g = torch.Generator().manual_seed(7)\n",
    "\n",
    "for _ in range(1):\n",
    "  out = []\n",
    "  context = [0] * block_size # initialize with all ...\n",
    "  while True:\n",
    "    emb = C[torch.tensor([context])] # (1,block_size,d)\n",
    "    h = torch.tanh(emb.view(1, -1) @ W1 + b1)\n",
    "    logits = h @ W2 + b2\n",
    "    probs = F.softmax(logits, dim=1)\n",
    "    ix = torch.multinomial(probs, num_samples=1, generator=g).item()\n",
    "    context = context[1:] + [ix]\n",
    "    out.append(ix)\n",
    "    if ix in [1, 2, 3]:\n",
    "      break\n",
    "  \n",
    "  print(' '.join(itos[i] for i in out))"
   ]
  },
  {
   "cell_type": "code",
   "execution_count": 208,
   "metadata": {},
   "outputs": [
    {
     "data": {
      "text/plain": [
       "tensor([ 38,  47, 105,  44,  79,  82,  39,  98,  49,  55,  44,  63,  66, 124,\n",
       "         46,  58,  78,  43,  24,  69,  78, 109,  82,  97,  43,  61, 143,  73,\n",
       "         33,  47,  73,  56,  91, 140,  22, 129,  61,  76,  24,  33,  76,  30,\n",
       "         26,  56,  93,  78,  87,  60,  26,  47,  69,  40, 100,  78,  77,  93,\n",
       "         96,  83,  63,  53,  83,  10,  92,  42, 146,  13,  52,  74,  38,  46,\n",
       "         50, 118, 107,  85, 172,  75,  50,  15,  35,  70,  68,  78,  66,  46,\n",
       "         34,  64, 102,  24,  70,  72,  24, 110,  36, 118,  52,  43,  16,  56,\n",
       "         47,  58, 103,  70,  66,  17, 149,  63,  57,  29,  39, 156,  44,  36,\n",
       "         16,  32,  42,  82,  56,  62, 109,  25,  32,  60, 142,  22,   8,  24,\n",
       "        101,  17,  24,  57,  57,  40,  70,  42, 140,  94,  50,  59,  95,  63,\n",
       "         55,  43,  50,  82, 121,  52,  50,  66,  21,  42,  50,  78,  58,  75,\n",
       "        132,  56,  53,  30,  56,  39,  77,  34,  38,  39,  27,  86, 108,  92,\n",
       "         20,  56,  79,  68, 136,  76,  66,  70,  40,  64,  57, 115,  63,  69,\n",
       "         49,  71,  64,  71,  47,  60,  65,  10,  52, 113,  65,  22,  86,  75,\n",
       "         36,  50,  49, 160,  35,  62,  80,  44,  38,  49,  54,  39,  64,  42,\n",
       "         56,  63,  88,  57, 128,  34,  34,  63,  64,  73,  72,  56,  62,  56,\n",
       "         63,  82,  46,  42,  99, 122,  41,  47,  49,  57,  25,  69, 124,  46,\n",
       "         64,  66,  79,  88, 132,  52,   6,  57,  67,  29, 107,  94,  74,  48,\n",
       "         59,  45,  28,  55])"
      ]
     },
     "execution_count": 208,
     "metadata": {},
     "output_type": "execute_result"
    }
   ],
   "source": [
    "torch.tensor([len(g.split(\" \")) for g in moves])\n",
    "# len(moves[76].split(\" \"))\n"
   ]
  },
  {
   "cell_type": "code",
   "execution_count": null,
   "metadata": {},
   "outputs": [],
   "source": []
  }
 ],
 "metadata": {
  "kernelspec": {
   "display_name": "ml",
   "language": "python",
   "name": "python3"
  },
  "language_info": {
   "codemirror_mode": {
    "name": "ipython",
    "version": 3
   },
   "file_extension": ".py",
   "mimetype": "text/x-python",
   "name": "python",
   "nbconvert_exporter": "python",
   "pygments_lexer": "ipython3",
   "version": "3.11.5 (main, Sep 11 2023, 13:54:46) [GCC 11.2.0]"
  },
  "orig_nbformat": 4,
  "vscode": {
   "interpreter": {
    "hash": "21b86235659b03b939f0d895e9c9e21bfd3031f85f36c706185cb35767dbea29"
   }
  }
 },
 "nbformat": 4,
 "nbformat_minor": 2
}
